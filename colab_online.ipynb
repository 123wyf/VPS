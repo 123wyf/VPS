{
  "nbformat": 4,
  "nbformat_minor": 0,
  "metadata": {
    "colab": {
      "name": "17亿参数-高考作文生成AI | 1.7B GPT2 Pretrained Essay Killer Brain",
      "provenance": [],
      "collapsed_sections": [],
      "include_colab_link": true
    },
    "kernelspec": {
      "name": "python3",
      "display_name": "Python 3"
    },
    "accelerator": "GPU"
  },
  "cells": [
    {
      "cell_type": "markdown",
      "metadata": {
        "id": "view-in-github",
        "colab_type": "text"
      },
      "source": [
        "<a href=\"https://colab.research.google.com/github/123wyf/VPS/blob/main/colab_online.ipynb\" target=\"_parent\"><img src=\"https://colab.research.google.com/assets/colab-badge.svg\" alt=\"Open In Colab\"/></a>"
      ]
    },
    {
      "cell_type": "markdown",
      "metadata": {
        "id": "1kTd8hwsOlxc"
      },
      "source": [
        "[![GitHub stars](https://img.shields.io/github/stars/EssayKillerBrain/EssayKiller?style=social)](https://github.com/imcaspar/gpt2-ml)\n",
        "[![GitHub](https://img.shields.io/github/license/EssayKillerBrain/EssayKiller)](https://github.com/imcaspar/gpt2-ml)\n",
        "[![Twitter URL](https://img.shields.io/twitter/url?style=social&url=https%3A%2F%2Fgithub.com%2Fimcaspar%2Fgpt2-ml)](https://twitter.com/intent/tweet?text=Wow:&url=https://github.com/imcaspar/gpt2-ml)\n",
        "### 高考作文生成指南:\n",
        "\n",
        "* 点击代码框左上角的▶️，选择RUN ANYWAY\n",
        "* 等待对应代码文件、模型文件下载\n",
        "* 输入参数，代表长度\n",
        "* 输入作文题目（摘要模块没有部署，请自己提炼作文题中的主旨句）\n",
        "\n",
        "之后就会生成对应文章，效果如下:"
      ]
    },
    {
      "cell_type": "code",
      "metadata": {
        "id": "9WOzE0kXOlxn",
        "outputId": "423de134-ef47-48fa-9100-de23cd671e38",
        "colab": {
          "base_uri": "https://localhost:8080/"
        }
      },
      "source": [
        "#@title #参数与开源框架预加载\n",
        "!pip install pandas==0.24.2 &> tmp.log\n",
        "!pip install regex==2019.4.14 &> tmp.log\n",
        "!pip install h5py==2.10.0 &> tmp.log\n",
        "!pip install numpy==1.18.4 &> tmp.log\n",
        "!pip install tensorboard==1.15.0 &> tmp.log\n",
        "!pip install tensorflow-gpu==1.15.2 &> tmp.log\n",
        "!pip install tensorflow-estimator==1.15.1 &> tmp.log\n",
        "!pip install tqdm==4.31.1 &> tmp.log\n",
        "!pip install requests==2.22.0 &> tmp.log\n",
        "!pip install ujson==2.0.3 &> tmp.log\n",
        "!echo '预加载模块结束，请继续点击下方的▶️'\n",
        "#@title #Prerequisites"
      ],
      "execution_count": 1,
      "outputs": [
        {
          "output_type": "stream",
          "text": [
            "预加载模块结束，请继续点击下方的▶️\n"
          ],
          "name": "stdout"
        }
      ]
    },
    {
      "cell_type": "code",
      "metadata": {
        "id": "BOoSrYB7Olxr",
        "outputId": "bb28fb0e-a41d-4335-c88e-5054ade1aaf9",
        "colab": {
          "base_uri": "https://localhost:8080/"
        }
      },
      "source": [
        "#@title #模型框架加载模块\n",
        "%cd /home\n",
        "!git clone -b master https://github.com/EssayKillerBrain/EssayKiller_V2.git \n",
        " \n",
        "#%tensorflow_version 1.5.2-GPU/TPU\n",
        "!mkdir -p /home/EssayKiller_V2/LanguageNetwork/GPT2/finetune/trained_models\n",
        " \n",
        "%cd /home/EssayKiller_V2/LanguageNetwork/GPT2/finetune/\n",
        "!perl /home/EssayKiller_V2/LanguageNetwork/GPT2/scripts/gdown.pl https://drive.google.com/file/d/1ajR-yVWmZC_z7HgNjz4tivNz-vUCgKBC trained_models/model.ckpt-280000.data-00000-of-00001\n",
        "!wget -q --show-progress https://github.com/EssayKillerBrain/EssayKiller/releases/download/v1.0/model.ckpt-280000.index -P /home/EssayKiller_V2/LanguageNetwork/GPT2/finetune/trained_models\n",
        "!wget -q --show-progress https://github.com/EssayKillerBrain/EssayKiller/releases/download/v1.0/model.ckpt-280000.meta -P /home/EssayKiller_V2/LanguageNetwork/GPT2/finetune/trained_models\n",
        " \n",
        "!echo '模型下载完成，Git项目已构建，请继续点击下方的▶️'\n",
        "# If gdown.pl failed, please uncomment following code & exec"
      ],
      "execution_count": 2,
      "outputs": [
        {
          "output_type": "stream",
          "text": [
            "/home\n",
            "Cloning into 'EssayKiller_V2'...\n",
            "remote: Enumerating objects: 499, done.\u001b[K\n",
            "remote: Counting objects: 100% (19/19), done.\u001b[K\n",
            "remote: Compressing objects: 100% (16/16), done.\u001b[K\n",
            "remote: Total 499 (delta 4), reused 4 (delta 0), pack-reused 480\u001b[K\n",
            "Receiving objects: 100% (499/499), 206.33 MiB | 36.30 MiB/s, done.\n",
            "Resolving deltas: 100% (141/141), done.\n",
            "Checking out files: 100% (274/274), done.\n",
            "/home/EssayKiller_V2/LanguageNetwork/GPT2/finetune\n",
            "--2021-06-14 01:57:37--  https://docs.google.com/uc?id=1ajR-yVWmZC_z7HgNjz4tivNz-vUCgKBC&export=download\n",
            "Resolving docs.google.com (docs.google.com)... 142.251.33.206, 2607:f8b0:4004:837::200e\n",
            "Connecting to docs.google.com (docs.google.com)|142.251.33.206|:443... connected.\n",
            "HTTP request sent, awaiting response... 200 OK\n",
            "Length: unspecified [text/html]\n",
            "Saving to: ‘trained_models/model.ckpt-280000.data-00000-of-00001’\n",
            "\n",
            "     0K                                     54.8M=0s\n",
            "\n",
            "2021-06-14 01:57:37 (54.8 MB/s) - ‘trained_models/model.ckpt-280000.data-00000-of-00001’ saved [3297]\n",
            "\n",
            "--2021-06-14 01:57:38--  https://docs.google.com/uc?export=download&confirm=Q0b9&id=1ajR-yVWmZC_z7HgNjz4tivNz-vUCgKBC\n",
            "Resolving docs.google.com (docs.google.com)... 142.251.33.206, 2607:f8b0:4004:837::200e\n",
            "Connecting to docs.google.com (docs.google.com)|142.251.33.206|:443... connected.\n",
            "HTTP request sent, awaiting response... 302 Moved Temporarily\n",
            "Location: https://doc-14-0c-docs.googleusercontent.com/docs/securesc/mcgt0fl6bvk97ckbuf6m80etfcc1sk7c/fvhmlng7m5t02vnsvb5urog2v5h5eh6h/1623635850000/18027993218153090420/15623799606698574039Z/1ajR-yVWmZC_z7HgNjz4tivNz-vUCgKBC?e=download [following]\n",
            "--2021-06-14 01:57:38--  https://doc-14-0c-docs.googleusercontent.com/docs/securesc/mcgt0fl6bvk97ckbuf6m80etfcc1sk7c/fvhmlng7m5t02vnsvb5urog2v5h5eh6h/1623635850000/18027993218153090420/15623799606698574039Z/1ajR-yVWmZC_z7HgNjz4tivNz-vUCgKBC?e=download\n",
            "Resolving doc-14-0c-docs.googleusercontent.com (doc-14-0c-docs.googleusercontent.com)... 172.217.7.225, 2607:f8b0:4004:802::2001\n",
            "Connecting to doc-14-0c-docs.googleusercontent.com (doc-14-0c-docs.googleusercontent.com)|172.217.7.225|:443... connected.\n",
            "HTTP request sent, awaiting response... 302 Found\n",
            "Location: https://docs.google.com/nonceSigner?nonce=otm823c3tdpse&continue=https://doc-14-0c-docs.googleusercontent.com/docs/securesc/mcgt0fl6bvk97ckbuf6m80etfcc1sk7c/fvhmlng7m5t02vnsvb5urog2v5h5eh6h/1623635850000/18027993218153090420/15623799606698574039Z/1ajR-yVWmZC_z7HgNjz4tivNz-vUCgKBC?e%3Ddownload&hash=gsso69pi1nnnupljr4qe3k3i10949rd7 [following]\n",
            "--2021-06-14 01:57:38--  https://docs.google.com/nonceSigner?nonce=otm823c3tdpse&continue=https://doc-14-0c-docs.googleusercontent.com/docs/securesc/mcgt0fl6bvk97ckbuf6m80etfcc1sk7c/fvhmlng7m5t02vnsvb5urog2v5h5eh6h/1623635850000/18027993218153090420/15623799606698574039Z/1ajR-yVWmZC_z7HgNjz4tivNz-vUCgKBC?e%3Ddownload&hash=gsso69pi1nnnupljr4qe3k3i10949rd7\n",
            "Connecting to docs.google.com (docs.google.com)|142.251.33.206|:443... connected.\n",
            "HTTP request sent, awaiting response... 302 Found\n",
            "Location: https://doc-14-0c-docs.googleusercontent.com/docs/securesc/mcgt0fl6bvk97ckbuf6m80etfcc1sk7c/fvhmlng7m5t02vnsvb5urog2v5h5eh6h/1623635850000/18027993218153090420/15623799606698574039Z/1ajR-yVWmZC_z7HgNjz4tivNz-vUCgKBC?e=download&nonce=otm823c3tdpse&user=15623799606698574039Z&hash=ohcn7f1nf4ufsb98rpkv0m79pip6osk5 [following]\n",
            "--2021-06-14 01:57:38--  https://doc-14-0c-docs.googleusercontent.com/docs/securesc/mcgt0fl6bvk97ckbuf6m80etfcc1sk7c/fvhmlng7m5t02vnsvb5urog2v5h5eh6h/1623635850000/18027993218153090420/15623799606698574039Z/1ajR-yVWmZC_z7HgNjz4tivNz-vUCgKBC?e=download&nonce=otm823c3tdpse&user=15623799606698574039Z&hash=ohcn7f1nf4ufsb98rpkv0m79pip6osk5\n",
            "Connecting to doc-14-0c-docs.googleusercontent.com (doc-14-0c-docs.googleusercontent.com)|172.217.7.225|:443... connected.\n",
            "HTTP request sent, awaiting response... 403 Forbidden\n",
            "2021-06-14 01:57:38 ERROR 403: Forbidden.\n",
            "\n",
            "Couldn't download the file :-(\n",
            "model.ckpt-280000.i 100%[===================>]  70.68K  --.-KB/s    in 0.002s  \n",
            "model.ckpt-280000.m 100%[===================>]  12.49M  --.-KB/s    in 0.1s    \n",
            "模型下载完成，Git项目已构建，请继续点击下方的▶️\n"
          ],
          "name": "stdout"
        }
      ]
    },
    {
      "cell_type": "markdown",
      "metadata": {
        "id": "n35BfcRBOlxu"
      },
      "source": [
        "### 模型参数设置:\n",
        "\n",
        "* 1.作文最小篇幅：\n",
        "生成对应字数的高考作文，可自己调节长度，最长为1024个汉字。\n",
        "一般来说越短的文章AI表现越好。\n",
        "\n",
        "* 2.生成作文篇数：\n",
        "默认会生成1篇议论文，生成时间取决于服务器状态\n",
        "一般不超过60秒。受限于线上GPU内存，篇数最多为100。\n"
      ]
    },
    {
      "cell_type": "code",
      "metadata": {
        "id": "xXNUprbROlxw",
        "outputId": "bf56a721-70ae-4821-ff80-ab4e028f1de6",
        "colab": {
          "base_uri": "https://localhost:8080/"
        }
      },
      "source": [
        "#!cat /usr/local/lib/python3.6/dist-packages/tensorflow_core/python/tpu/tpu_feed.py\n",
        "#@title #文章生成模块\n",
        "作文最小篇幅 = 1024 #@param {type:\"number\", min:800, max:1024, step:1}\n",
        "生成作文篇数 = 1 #@param {type:\"number\", min:1, max:100, step:1}\n",
        "%mv /home/EssayKiller_V2/LanguageNetwork/GPT2/finetune/models/mega/* /home/EssayKiller_V2/LanguageNetwork/GPT2/finetune/trained_models/\n",
        "%cd /home/EssayKiller_V2/LanguageNetwork/GPT2/\n",
        "!export TF_CPP_MIN_LOG_LEVEL=2\n",
        "!echo '模型加载中，请稍后......'\n",
        "!PYTHONPATH=$(pwd) python scripts/demo.py -ckpt_fn finetune/trained_models/model.ckpt-280000 -min_len $作文最小篇幅 -samples $生成作文篇数\n",
        "!PYTHONPATH=$(pwd) python scripts/formatter.py -org_text result.txt"
      ],
      "execution_count": 3,
      "outputs": [
        {
          "output_type": "stream",
          "text": [
            "mv: cannot stat '/home/EssayKiller_V2/LanguageNetwork/GPT2/finetune/models/mega/*': No such file or directory\n",
            "/home/EssayKiller_V2/LanguageNetwork/GPT2\n",
            "模型加载中，请稍后......\n",
            "WARNING:tensorflow:From /home/EssayKiller_V2/LanguageNetwork/GPT2/scripts/modeling.py:141: dense (from tensorflow.python.layers.core) is deprecated and will be removed in a future version.\n",
            "Instructions for updating:\n",
            "Use keras.layers.Dense instead.\n",
            "WARNING:tensorflow:From /usr/local/lib/python3.7/dist-packages/tensorflow_core/python/layers/core.py:187: Layer.apply (from tensorflow.python.keras.engine.base_layer) is deprecated and will be removed in a future version.\n",
            "Instructions for updating:\n",
            "Please use `layer.__call__` method instead.\n",
            "WARNING:tensorflow:From /usr/local/lib/python3.7/dist-packages/tensorflow_core/python/util/dispatch.py:180: batch_gather (from tensorflow.python.ops.array_ops) is deprecated and will be removed after 2017-10-25.\n",
            "Instructions for updating:\n",
            "`tf.batch_gather` is deprecated, please use `tf.gather` with `batch_dims=-1` instead.\n",
            "Traceback (most recent call last):\n",
            "  File \"/usr/local/lib/python3.7/dist-packages/tensorflow_core/python/client/session.py\", line 1365, in _do_call\n",
            "    return fn(*args)\n",
            "  File \"/usr/local/lib/python3.7/dist-packages/tensorflow_core/python/client/session.py\", line 1350, in _run_fn\n",
            "    target_list, run_metadata)\n",
            "  File \"/usr/local/lib/python3.7/dist-packages/tensorflow_core/python/client/session.py\", line 1443, in _call_tf_sessionrun\n",
            "    run_metadata)\n",
            "tensorflow.python.framework.errors_impl.OutOfRangeError: 2 root error(s) found.\n",
            "  (0) Out of range: Read less bytes than requested\n",
            "\t [[{{node save/RestoreV2}}]]\n",
            "\t [[save/RestoreV2/_731]]\n",
            "  (1) Out of range: Read less bytes than requested\n",
            "\t [[{{node save/RestoreV2}}]]\n",
            "0 successful operations.\n",
            "0 derived errors ignored.\n",
            "\n",
            "During handling of the above exception, another exception occurred:\n",
            "\n",
            "Traceback (most recent call last):\n",
            "  File \"scripts/demo.py\", line 179, in <module>\n",
            "    saver.restore(sess, args.ckpt_fn)\n",
            "  File \"/usr/local/lib/python3.7/dist-packages/tensorflow_core/python/training/saver.py\", line 1290, in restore\n",
            "    {self.saver_def.filename_tensor_name: save_path})\n",
            "  File \"/usr/local/lib/python3.7/dist-packages/tensorflow_core/python/client/session.py\", line 956, in run\n",
            "    run_metadata_ptr)\n",
            "  File \"/usr/local/lib/python3.7/dist-packages/tensorflow_core/python/client/session.py\", line 1180, in _run\n",
            "    feed_dict_tensor, options, run_metadata)\n",
            "  File \"/usr/local/lib/python3.7/dist-packages/tensorflow_core/python/client/session.py\", line 1359, in _do_run\n",
            "    run_metadata)\n",
            "  File \"/usr/local/lib/python3.7/dist-packages/tensorflow_core/python/client/session.py\", line 1384, in _do_call\n",
            "    raise type(e)(node_def, op, message)\n",
            "tensorflow.python.framework.errors_impl.OutOfRangeError: 2 root error(s) found.\n",
            "  (0) Out of range: Read less bytes than requested\n",
            "\t [[node save/RestoreV2 (defined at /usr/local/lib/python3.7/dist-packages/tensorflow_core/python/framework/ops.py:1748) ]]\n",
            "\t [[save/RestoreV2/_731]]\n",
            "  (1) Out of range: Read less bytes than requested\n",
            "\t [[node save/RestoreV2 (defined at /usr/local/lib/python3.7/dist-packages/tensorflow_core/python/framework/ops.py:1748) ]]\n",
            "0 successful operations.\n",
            "0 derived errors ignored.\n",
            "\n",
            "Original stack trace for 'save/RestoreV2':\n",
            "  File \"scripts/demo.py\", line 178, in <module>\n",
            "    saver = tf.compat.v1.train.Saver()\n",
            "  File \"/usr/local/lib/python3.7/dist-packages/tensorflow_core/python/training/saver.py\", line 828, in __init__\n",
            "    self.build()\n",
            "  File \"/usr/local/lib/python3.7/dist-packages/tensorflow_core/python/training/saver.py\", line 840, in build\n",
            "    self._build(self._filename, build_save=True, build_restore=True)\n",
            "  File \"/usr/local/lib/python3.7/dist-packages/tensorflow_core/python/training/saver.py\", line 878, in _build\n",
            "    build_restore=build_restore)\n",
            "  File \"/usr/local/lib/python3.7/dist-packages/tensorflow_core/python/training/saver.py\", line 508, in _build_internal\n",
            "    restore_sequentially, reshape)\n",
            "  File \"/usr/local/lib/python3.7/dist-packages/tensorflow_core/python/training/saver.py\", line 328, in _AddRestoreOps\n",
            "    restore_sequentially)\n",
            "  File \"/usr/local/lib/python3.7/dist-packages/tensorflow_core/python/training/saver.py\", line 575, in bulk_restore\n",
            "    return io_ops.restore_v2(filename_tensor, names, slices, dtypes)\n",
            "  File \"/usr/local/lib/python3.7/dist-packages/tensorflow_core/python/ops/gen_io_ops.py\", line 1696, in restore_v2\n",
            "    name=name)\n",
            "  File \"/usr/local/lib/python3.7/dist-packages/tensorflow_core/python/framework/op_def_library.py\", line 794, in _apply_op_helper\n",
            "    op_def=op_def)\n",
            "  File \"/usr/local/lib/python3.7/dist-packages/tensorflow_core/python/util/deprecation.py\", line 507, in new_func\n",
            "    return func(*args, **kwargs)\n",
            "  File \"/usr/local/lib/python3.7/dist-packages/tensorflow_core/python/framework/ops.py\", line 3357, in create_op\n",
            "    attrs, op_def, compute_device)\n",
            "  File \"/usr/local/lib/python3.7/dist-packages/tensorflow_core/python/framework/ops.py\", line 3426, in _create_op_internal\n",
            "    op_def=op_def)\n",
            "  File \"/usr/local/lib/python3.7/dist-packages/tensorflow_core/python/framework/ops.py\", line 1748, in __init__\n",
            "    self._traceback = tf_stack.extract_stack()\n",
            "\n",
            "the lens:  13\n",
            "Traceback (most recent call last):\n",
            "  File \"scripts/formatter.py\", line 132, in <module>\n",
            "    with open(args.org_text, 'r',encoding='UTF-8') as f:\n",
            "FileNotFoundError: [Errno 2] No such file or directory: 'result.txt'\n"
          ],
          "name": "stdout"
        }
      ]
    }
  ]
}